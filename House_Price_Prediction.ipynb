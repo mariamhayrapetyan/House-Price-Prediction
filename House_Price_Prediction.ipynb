{
  "nbformat": 4,
  "nbformat_minor": 0,
  "metadata": {
    "colab": {
      "name": "House Price Prediction.ipynb",
      "provenance": [],
      "collapsed_sections": []
    },
    "kernelspec": {
      "name": "python3",
      "display_name": "Python 3"
    },
    "language_info": {
      "name": "python"
    }
  },
  "cells": [
    {
      "cell_type": "markdown",
      "metadata": {
        "id": "jMMQZzyGD6VQ"
      },
      "source": [
        "## House Price Prediction\n"
      ]
    },
    {
      "cell_type": "code",
      "metadata": {
        "id": "JbM-6q39D0xL",
        "colab": {
          "base_uri": "https://localhost:8080/"
        },
        "outputId": "f82f0d78-34e8-4bce-cd9c-1fedb3a7f391"
      },
      "source": [
        "import pandas as pd\n",
        "import numpy as np\n",
        "import seaborn as sns\n",
        "import statsmodels.formula.api as smf\n",
        "import statsmodels.api as sm\n",
        "from matplotlib import pyplot as plt\n",
        "from statsmodels.formula.api import ols\n",
        "import statsmodels.formula.api as smf\n",
        "import sklearn.linear_model as sklm\n",
        "from sklearn.model_selection import train_test_split\n",
        "from sklearn.metrics import r2_score, mean_squared_error, mean_absolute_error\n",
        "from sklearn import feature_selection, preprocessing\n",
        "import math\n",
        "from sklearn.feature_selection import SelectPercentile,chi2, SelectKBest\n",
        "from sklearn.feature_selection import f_regression\n",
        "from sklearn.model_selection import StratifiedKFold\n",
        "import matplotlib.pyplot as plt\n",
        "from sklearn.svm import SVC, LinearSVC, SVR, LinearSVR\n",
        "from sklearn.model_selection import train_test_split as tts\n",
        "from sklearn.preprocessing import StandardScaler\n",
        "from sklearn.pipeline import Pipeline\n",
        "from sklearn.neighbors import KNeighborsRegressor\n",
        "from sklearn.svm import SVC, LinearSVC, SVR, LinearSVR\n",
        "from sklearn.model_selection import KFold\n",
        "from tqdm import tqdm\n",
        "from sklearn.tree import DecisionTreeClassifier, plot_tree, DecisionTreeRegressor\n",
        "from sklearn.ensemble import RandomForestClassifier, BaggingClassifier, RandomForestRegressor\n",
        "from xgboost import XGBRegressor, XGBClassifier\n",
        "from sklearn.preprocessing import scale \n",
        "from sklearn.linear_model import Ridge, RidgeCV, Lasso, LassoCV\n",
        "from sklearn.model_selection import GridSearchCV"
      ],
      "execution_count": 1,
      "outputs": [
        {
          "output_type": "stream",
          "text": [
            "/usr/local/lib/python3.7/dist-packages/statsmodels/tools/_testing.py:19: FutureWarning: pandas.util.testing is deprecated. Use the functions in the public API at pandas.testing instead.\n",
            "  import pandas.util.testing as tm\n"
          ],
          "name": "stderr"
        }
      ]
    },
    {
      "cell_type": "markdown",
      "metadata": {
        "id": "4JuXrFQVD4v3"
      },
      "source": [
        "### Data Preprocessing\n",
        "\n"
      ]
    },
    {
      "cell_type": "code",
      "metadata": {
        "id": "K4ZJNm5kLf5W"
      },
      "source": [
        "data = pd.read_csv(\"data.csv\")\n",
        "#remove the columns where more than half of values are NA\n",
        "data = data.drop(columns=['Alley', 'FireplaceQu', 'PoolQC', 'Fence', 'MiscFeature']) \n",
        "#in numeric columns replace the NAs with mean\n",
        "data = data.fillna(data.mean())     \n",
        "#in categorical columns replace the NAs with mode(most frequent value)            \n",
        "data = data.fillna(data.mode().iloc[0])\n",
        "#convert categorical columns into one-hot vectors\n",
        "data_obj = data.select_dtypes(include=[object])\n",
        "dummies = pd.get_dummies(data_obj)\n",
        "data = data.drop(columns=data_obj.columns)\n",
        "data = pd.concat([dummies, data], axis = 1)\n",
        "data[\"SalePrice\"] = data[\"SalePrice\"].apply(np.log)"
      ],
      "execution_count": 2,
      "outputs": []
    },
    {
      "cell_type": "code",
      "metadata": {
        "id": "pI4lYTRweMh5"
      },
      "source": [
        "cor = data.corr()\n",
        "#Correlation with output variable\n",
        "cor_target = abs(cor[\"SalePrice\"])\n",
        "#Selecting highly correlated features\n",
        "relevant_features = cor_target[cor_target>0.5]"
      ],
      "execution_count": 3,
      "outputs": []
    },
    {
      "cell_type": "code",
      "metadata": {
        "id": "UZqpm4jlSijb"
      },
      "source": [
        "X = data.loc[:, data.columns != 'SalePrice']\n",
        "y = data['SalePrice']"
      ],
      "execution_count": 4,
      "outputs": []
    },
    {
      "cell_type": "code",
      "metadata": {
        "id": "7zdQSMMcmLy9"
      },
      "source": [
        "X_train, X_test, y_train, y_test = train_test_split(X, y, test_size=0.2, random_state = 1)"
      ],
      "execution_count": 5,
      "outputs": []
    },
    {
      "cell_type": "markdown",
      "metadata": {
        "id": "6KDVAZ19tS9a"
      },
      "source": [
        "Feature Selection"
      ]
    },
    {
      "cell_type": "code",
      "metadata": {
        "id": "Fhew3Vc-AgUA",
        "colab": {
          "base_uri": "https://localhost:8080/"
        },
        "outputId": "5ed499a8-c172-4257-9b50-2cb59bd2e19f"
      },
      "source": [
        "F_vals, p_vals = feature_selection.f_regression(X_train, y_train)\n",
        "def clean_pvals(entry):\n",
        "    if (math.isnan(entry)):\n",
        "        return 100\n",
        "    else:\n",
        "        return entry\n",
        "clean_pvals_vectorized = np.vectorize(clean_pvals)\n",
        "p_vals = clean_pvals_vectorized(p_vals)\n",
        "THRESH = 1e-20\n",
        "\n",
        "X_train_50 = X_train[X_train.columns[p_vals<THRESH]]\n",
        "X_test_50 = X_test[X_train.columns[p_vals<THRESH]]"
      ],
      "execution_count": 6,
      "outputs": [
        {
          "output_type": "stream",
          "text": [
            "/usr/local/lib/python3.7/dist-packages/sklearn/feature_selection/_univariate_selection.py:299: RuntimeWarning: invalid value encountered in true_divide\n",
            "  corr /= X_norms\n"
          ],
          "name": "stderr"
        }
      ]
    },
    {
      "cell_type": "code",
      "metadata": {
        "id": "mbI8-zMSGxL9"
      },
      "source": [
        "#alternative approach for feature selection\n",
        "X_new = SelectKBest(f_regression, k=50).fit(X, y)\n",
        "X_train_50 = X_train.iloc[:, X_new.get_support(True)]\n",
        "X_test_50 = X_test.iloc[:, X_new.get_support(True)]"
      ],
      "execution_count": 7,
      "outputs": []
    },
    {
      "cell_type": "markdown",
      "metadata": {
        "id": "10NUi0i8nBoc"
      },
      "source": [
        "Lasso + Feature selection"
      ]
    },
    {
      "cell_type": "code",
      "metadata": {
        "id": "RmDu17qaioOM"
      },
      "source": [
        "alphas = 10**np.linspace(10,-2,100)*0.5"
      ],
      "execution_count": 8,
      "outputs": []
    },
    {
      "cell_type": "code",
      "metadata": {
        "id": "hm6OFd5jyPcV",
        "colab": {
          "base_uri": "https://localhost:8080/"
        },
        "outputId": "8361aa84-e7e3-4931-da8c-b4f6818da81d"
      },
      "source": [
        "#best \n",
        "lassocv = LassoCV(alphas = alphas, cv = 10, max_iter = 100000, normalize = True)\n",
        "lassocv.fit(X_train, y_train)\n",
        "\n",
        "lasso = Lasso(alpha=lassocv.alpha_) #normalize = True ?\n",
        "lasso.fit(X_train, y_train)\n",
        "print('R-squared for train')\n",
        "r2_train_lasso = lasso.score(X_train, y_train)\n",
        "print(r2_train_lasso)\n",
        "print('R-squared for test')\n",
        "r2_test_lasso = lasso.score(X_test, y_test)\n",
        "print(r2_test_lasso)\n",
        "print('Mse for test')\n",
        "mse_test_lasso = mean_squared_error(y_test, lasso.predict(X_test))\n",
        "print(mse_test_lasso)\n",
        "print('Mse for train')\n",
        "mse_train_lasso = mean_squared_error(y_train, lasso.predict(X_train))\n",
        "print(mean_squared_error(y_train, lasso.predict(X_train)))\n",
        "print('Mae for train')\n",
        "mae_train_lasso = mean_absolute_error(y_train, lasso.predict(X_train))\n",
        "print(mae_train_lasso)\n",
        "print(\"Mae for test\")\n",
        "mae_test_lasso = mean_absolute_error(y_test, lasso.predict(X_test))\n",
        "print(mae_test_lasso)\n",
        "#rmse_test_lasso = mean_squared_error(y_test, lasso.predict(X_test), squared = False)\n",
        "#print(rmse_test_lasso)"
      ],
      "execution_count": 9,
      "outputs": [
        {
          "output_type": "stream",
          "text": [
            "R-squared for train\n",
            "0.8581596112502349\n",
            "R-squared for test\n",
            "0.9074912644450108\n",
            "Mse for test\n",
            "0.014605843646528848\n",
            "Mse for train\n",
            "0.022465246898072357\n",
            "Mae for train\n",
            "0.0987297294512465\n",
            "Mae for test\n",
            "0.08806732492444351\n"
          ],
          "name": "stdout"
        }
      ]
    },
    {
      "cell_type": "code",
      "metadata": {
        "id": "qOWhLSmByPjo"
      },
      "source": [
        "#lasso feature selection\n",
        "X_train_lasso = X_train[X_train.columns[lasso.coef_ != 0]]\n",
        "X_test_lasso = X_test[X_test.columns[lasso.coef_ != 0]]"
      ],
      "execution_count": 10,
      "outputs": []
    },
    {
      "cell_type": "markdown",
      "metadata": {
        "id": "ut0oAoR5mBBd"
      },
      "source": [
        "Linear Regression"
      ]
    },
    {
      "cell_type": "code",
      "metadata": {
        "colab": {
          "base_uri": "https://localhost:8080/"
        },
        "id": "jWKZL0RVeUq3",
        "outputId": "0ec911e1-1876-4e66-c7f0-d710988a7291"
      },
      "source": [
        "#with all features\n",
        "model_all = sklm.LinearRegression()\n",
        "model_all.fit(X_train, y_train)\n",
        "model_all.predict(X_test)\n",
        "print(\"#R-squared for train\")\n",
        "print(model_all.score(X_train, y_train))\n",
        "print(\"#R-squared for test\")\n",
        "print(model_all.score(X_test, y_test))\n",
        "print(\"#MSE for test\")\n",
        "print(mean_squared_error(y_test, model_all.predict(X_test)))\n",
        "print(\"#MSE for train\")\n",
        "print(mean_squared_error(y_train, model_all.predict(X_train)))"
      ],
      "execution_count": 11,
      "outputs": [
        {
          "output_type": "stream",
          "text": [
            "#R-squared for train\n",
            "0.9489959161380479\n",
            "#R-squared for test\n",
            "-86188170269853.83\n",
            "#MSE for test\n",
            "13607914231987.508\n",
            "#MSE for train\n",
            "0.008078230374778495\n"
          ],
          "name": "stdout"
        }
      ]
    },
    {
      "cell_type": "code",
      "metadata": {
        "id": "_jc5ceVBBTlH",
        "colab": {
          "base_uri": "https://localhost:8080/"
        },
        "outputId": "6dcf63e7-e1f2-449d-9027-8320f37745d5"
      },
      "source": [
        "#with 50 most correlated features\n",
        "model1 = sklm.LinearRegression()\n",
        "model1.fit(X_train_50, y_train)\n",
        "model1.predict(X_test_50)\n",
        "print(\"#R-squared for train\")\n",
        "print(model1.score( X_train_50, y_train))\n",
        "print(\"#R-squared for test\")\n",
        "print(model1.score( X_test_50, y_test))\n",
        "print(\"#MSE for test\")\n",
        "print(mean_squared_error(y_test, model1.predict(X_test_50)))\n",
        "print(\"#MSE for train\")\n",
        "print(mean_squared_error(y_train, model1.predict(X_train_50)))\n"
      ],
      "execution_count": 12,
      "outputs": [
        {
          "output_type": "stream",
          "text": [
            "#R-squared for train\n",
            "0.8560675665757503\n",
            "#R-squared for test\n",
            "0.8764443181971295\n",
            "#MSE for test\n",
            "0.019507724964852455\n",
            "#MSE for train\n",
            "0.022796593283600126\n"
          ],
          "name": "stdout"
        }
      ]
    },
    {
      "cell_type": "code",
      "metadata": {
        "colab": {
          "base_uri": "https://localhost:8080/"
        },
        "id": "wszcBKqrWzV7",
        "outputId": "9fae985d-5c00-4312-916a-661262fc9efb"
      },
      "source": [
        "#best\n",
        "#with features selected by Lasso\n",
        "model1 = sklm.LinearRegression()\n",
        "model1.fit(X_train_lasso, y_train)\n",
        "y_pred_lr = model1.predict(X_test_lasso)\n",
        "print(\"R-squared for train\")\n",
        "r2_train_lr = model1.score( X_train_lasso, y_train)\n",
        "print(r2_train_lr)\n",
        "print(\"R-squared for test\")\n",
        "r2_test_lr = model1.score( X_test_lasso, y_test)\n",
        "print(r2_test_lr)\n",
        "print(\"MSE for test\")\n",
        "mse_test_lr = mean_squared_error(y_test, model1.predict(X_test_lasso))\n",
        "print(mse_test_lr)\n",
        "print(\"MSE for train\")\n",
        "mse_train_lr = mean_squared_error(y_train, model1.predict(X_train_lasso))\n",
        "print(mse_train_lr)\n",
        "print('Mae for train')\n",
        "mae_train_lr = mean_absolute_error(y_train, model1.predict(X_train_lasso))\n",
        "print(mae_train_lr)\n",
        "print(\"Mae for test\")\n",
        "mae_test_lr = mean_absolute_error(y_test, model1.predict(X_test_lasso))\n",
        "print(mae_test_lr)"
      ],
      "execution_count": 13,
      "outputs": [
        {
          "output_type": "stream",
          "text": [
            "R-squared for train\n",
            "0.8689537997140587\n",
            "R-squared for test\n",
            "0.9089790238689003\n",
            "MSE for test\n",
            "0.014370947110557265\n",
            "MSE for train\n",
            "0.020755620246301523\n",
            "Mae for train\n",
            "0.09782737987146739\n",
            "Mae for test\n",
            "0.09035152860149098\n"
          ],
          "name": "stdout"
        }
      ]
    },
    {
      "cell_type": "markdown",
      "metadata": {
        "id": "25hPfSVMIUfo"
      },
      "source": [
        "Ridge"
      ]
    },
    {
      "cell_type": "code",
      "metadata": {
        "id": "ZZ94LgyCjB-y",
        "colab": {
          "base_uri": "https://localhost:8080/"
        },
        "outputId": "1820794d-d6c0-4661-87d8-df3d15a16e21"
      },
      "source": [
        "#best\n",
        "ridgecv = RidgeCV(alphas = alphas, scoring = 'neg_mean_squared_error', normalize = True)\n",
        "ridgecv.fit(X_train, y_train)\n",
        "ridge = Ridge(alpha = ridgecv.alpha_, normalize = True)\n",
        "ridge.fit(X_train, y_train)\n",
        "print('R-squared for train')\n",
        "r2_train_ridge = ridge.score(X_train, y_train)\n",
        "print(r2_train_ridge)\n",
        "print('R-squared for test')\n",
        "r2_test_ridge = ridge.score(X_test, y_test)\n",
        "print(r2_test_ridge)\n",
        "print('Mse for test')\n",
        "mse_test_ridge = mean_squared_error(y_test, ridge.predict(X_test))\n",
        "print(mse_test_ridge)\n",
        "print('Mse for train')\n",
        "mse_train_ridge = mean_squared_error(y_train, ridge.predict(X_train))\n",
        "print(mse_train_ridge)\n",
        "print('Mae for train')\n",
        "mae_train_ridge = mean_absolute_error(y_train, ridge.predict(X_train))\n",
        "print(mae_train_ridge)\n",
        "print('Mae for test')\n",
        "mae_test_ridge = mean_absolute_error(y_test, ridge.predict(X_test))\n",
        "print(mae_test_ridge)"
      ],
      "execution_count": 14,
      "outputs": [
        {
          "output_type": "stream",
          "text": [
            "R-squared for train\n",
            "0.9297056216210311\n",
            "R-squared for test\n",
            "0.9065368229356691\n",
            "Mse for test\n",
            "0.014756536695910307\n",
            "Mse for train\n",
            "0.011133504213782468\n",
            "Mae for train\n",
            "0.07475921346723825\n",
            "Mae for test\n",
            "0.08182195270572733\n"
          ],
          "name": "stdout"
        }
      ]
    },
    {
      "cell_type": "markdown",
      "metadata": {
        "id": "RmOFheMdH5I7"
      },
      "source": [
        "SVR\n"
      ]
    },
    {
      "cell_type": "code",
      "metadata": {
        "id": "pGmGubcaiT3l"
      },
      "source": [
        "param_tuning = {\"C\": [0.001, 0.01, 0.1, 1, 10], \"gamma\": [0.001, 0.01, 0.1, 1]}\n",
        "\n",
        "svr = SVR()\n",
        "\n",
        "gsearch = GridSearchCV(estimator = svr,\n",
        "                      param_grid = param_tuning,                        \n",
        "                      #scoring = 'neg_mean_absolute_error', #MAE\n",
        "                      scoring = 'neg_mean_squared_error',  #MSE\n",
        "                      cv = 5,\n",
        "                      n_jobs = -1,\n",
        "                      verbose = 1)\n",
        "\n",
        "#gsearch.fit(X_train_50, y_train)\n",
        "#gsearch.best_estimator_\n",
        "#gsearch.best_score_"
      ],
      "execution_count": 15,
      "outputs": []
    },
    {
      "cell_type": "code",
      "metadata": {
        "colab": {
          "base_uri": "https://localhost:8080/"
        },
        "id": "c6moKONLAMAe",
        "outputId": "f92cf29f-ace9-4e7c-9ae5-fa9e24b8681d"
      },
      "source": [
        "##with 50 most correlated features\n",
        "svc = SVR(C = 10) \n",
        "svc.fit(X_train_50, y_train)\n",
        "print('#R-squared for train')\n",
        "print(svc.score( X_train_50, y_train))\n",
        "print('#R-squared for test')\n",
        "print(svc.score(X_test_50, y_test))\n",
        "print('#MSE for test')\n",
        "print(mean_squared_error(y_test, svc.predict(X_test_50)))\n",
        "print('#MSE for train')\n",
        "print(mean_squared_error(y_train, svc.predict(X_train_50)))"
      ],
      "execution_count": 16,
      "outputs": [
        {
          "output_type": "stream",
          "text": [
            "#R-squared for train\n",
            "0.838492506276984\n",
            "#R-squared for test\n",
            "0.8184285474174361\n",
            "#MSE for test\n",
            "0.028667608860761563\n",
            "#MSE for train\n",
            "0.02558020148109914\n"
          ],
          "name": "stdout"
        }
      ]
    },
    {
      "cell_type": "code",
      "metadata": {
        "colab": {
          "base_uri": "https://localhost:8080/"
        },
        "id": "wHrgkPichcHD",
        "outputId": "9b75d2d9-886d-4545-9f4d-28d9af9a93f8"
      },
      "source": [
        "##with 50 most correlated features + standardization\n",
        "svc =Pipeline([('scaler', StandardScaler()), ('svc', SVR())])  \n",
        "svc.fit(X_train_50, y_train)\n",
        "print('#R-squared for train')\n",
        "print(svc.score( X_train_50, y_train))\n",
        "print('#R-squared for test')\n",
        "print(svc.score(X_test_50, y_test))\n",
        "print('#MSE for test')\n",
        "print(mean_squared_error(y_test, svc.predict(X_test_50)))\n",
        "print('#MSE for train')\n",
        "print(mean_squared_error(y_train, svc.predict(X_train_50)))"
      ],
      "execution_count": 17,
      "outputs": [
        {
          "output_type": "stream",
          "text": [
            "#R-squared for train\n",
            "0.9540852033270807\n",
            "#R-squared for test\n",
            "0.8690262341599817\n",
            "#MSE for test\n",
            "0.020678937336888286\n",
            "#MSE for train\n",
            "0.0072721687568952685\n"
          ],
          "name": "stdout"
        }
      ]
    },
    {
      "cell_type": "code",
      "metadata": {
        "colab": {
          "base_uri": "https://localhost:8080/"
        },
        "id": "_uhd5AmooZNl",
        "outputId": "5499f151-d89b-4fd7-d3bd-5322b09c4dab"
      },
      "source": [
        "##with 50 most correlated features + standardization + parameters\n",
        "svc =Pipeline([('scaler', StandardScaler()), ('svc', SVR(C=10, gamma = 0.001))])  \n",
        "svc.fit(X_train_50, y_train)\n",
        "print('#R-squared for train')\n",
        "r2_train_svr = svc.score( X_train_50, y_train)\n",
        "print(r2_train_svr)\n",
        "print('#R-squared for test')\n",
        "r2_test_svr = svc.score(X_test_50, y_test)\n",
        "print(r2_test_svr)\n",
        "print('#MSE for test')\n",
        "mse_test_svr = mean_squared_error(y_test, svc.predict(X_test_50))\n",
        "print(mse_test_svr)\n",
        "print('#MSE for train')\n",
        "mse_train_svr = mean_squared_error(y_train, svc.predict(X_train_50))\n",
        "print(mse_train_svr)\n",
        "print('#MAE for train')\n",
        "mae_train_svr = mean_absolute_error(y_train, svc.predict(X_train_50))\n",
        "print(mae_train_svr)\n",
        "print('#MAE for test')\n",
        "mae_test_svr = mean_absolute_error(y_test, svc.predict(X_test_50))\n",
        "print(mae_test_svr)"
      ],
      "execution_count": 18,
      "outputs": [
        {
          "output_type": "stream",
          "text": [
            "#R-squared for train\n",
            "0.9112591517963877\n",
            "#R-squared for test\n",
            "0.8970731674918871\n",
            "#MSE for test\n",
            "0.016250716363454626\n",
            "#MSE for train\n",
            "0.014055129730048832\n",
            "#MAE for train\n",
            "0.0840029221099885\n",
            "#MAE for test\n",
            "0.08955002535035075\n"
          ],
          "name": "stdout"
        }
      ]
    },
    {
      "cell_type": "code",
      "metadata": {
        "colab": {
          "base_uri": "https://localhost:8080/"
        },
        "id": "RwJBndP8XZ5U",
        "outputId": "e505ba72-f291-4234-a3b1-67e48921c28e"
      },
      "source": [
        "#best\n",
        "#with features from lasso + standardization + parameters\n",
        "svc =Pipeline([('scaler', StandardScaler()), ('svc', SVR(C=10, gamma = 0.001))])  \n",
        "svc.fit(X_train_lasso, y_train)\n",
        "y_pred_svr = svc.predict(X_test_lasso)\n",
        "print('#R-squared for train')\n",
        "r2_train_svr = svc.score( X_train_lasso, y_train)\n",
        "print(r2_train_svr)\n",
        "print('#R-squared for test')\n",
        "r2_test_svr = svc.score(X_test_lasso, y_test)\n",
        "print(r2_test_svr)\n",
        "print('#MSE for test')\n",
        "mse_test_svr = mean_squared_error(y_test, svc.predict(X_test_lasso))\n",
        "print(mse_test_svr)\n",
        "print('#MSE for train')\n",
        "mse_train_svr = mean_squared_error(y_train, svc.predict(X_train_lasso))\n",
        "print(mse_train_svr)\n",
        "print('#MAE for train')\n",
        "mae_train_svr = mean_absolute_error(y_train, svc.predict(X_train_lasso))\n",
        "print(mae_train_svr)\n",
        "print('#MAE for test')\n",
        "mae_test_svr = mean_absolute_error(y_test, svc.predict(X_test_lasso))\n",
        "print(mae_test_svr)"
      ],
      "execution_count": 19,
      "outputs": [
        {
          "output_type": "stream",
          "text": [
            "#R-squared for train\n",
            "0.9133073681705453\n",
            "#R-squared for test\n",
            "0.9191790942819212\n",
            "#MSE for test\n",
            "0.012760497754154464\n",
            "#MSE for train\n",
            "0.013730725045658832\n",
            "#MAE for train\n",
            "0.08019224104445563\n",
            "#MAE for test\n",
            "0.0800765865275434\n"
          ],
          "name": "stdout"
        }
      ]
    },
    {
      "cell_type": "code",
      "metadata": {
        "colab": {
          "base_uri": "https://localhost:8080/"
        },
        "id": "fpCS6eRUkBNM",
        "outputId": "5fd4e703-0fa3-4bb0-966d-43ccf7795f84"
      },
      "source": [
        "#LinearSVR\n",
        "#with features from lasso + standandization\n",
        "svc = Pipeline([('scaler', StandardScaler()), ('svc', LinearSVR(random_state=1))])  \n",
        "svc.fit(X_train_lasso, y_train)\n",
        "y_pred_lsvr = svc.predict(X_test_lasso)\n",
        "print('#R-squared for train')\n",
        "r2_train_lsvr = svc.score( X_train_lasso, y_train)\n",
        "print(r2_train_lsvr)\n",
        "print('#R-squared for test')\n",
        "r2_test_lsvr = svc.score(X_test_lasso, y_test)\n",
        "print(r2_test_lsvr)\n",
        "print('#MSE for test')\n",
        "mse_test_lsvr = mean_squared_error(y_test, svc.predict(X_test_lasso))\n",
        "print(mse_test_lsvr)\n",
        "print('#MSE for train')\n",
        "mse_train_lsvr = mean_squared_error(y_train, svc.predict(X_train_lasso))\n",
        "print(mse_train_lsvr)\n",
        "print('#MAE for train')\n",
        "mae_train_lsvr = mean_absolute_error(y_train, svc.predict(X_train_lasso))\n",
        "print(mae_train_lsvr)\n",
        "print('#MAE for test')\n",
        "mae_test_lsvr = mean_absolute_error(y_test, svc.predict(X_test_lasso))\n",
        "print(mae_test_lsvr)"
      ],
      "execution_count": 20,
      "outputs": [
        {
          "output_type": "stream",
          "text": [
            "#R-squared for train\n",
            "0.8222476079891947\n",
            "#R-squared for test\n",
            "0.9108350795536305\n",
            "#MSE for test\n",
            "0.014077901713624892\n",
            "#MSE for train\n",
            "0.028153133310220776\n",
            "#MAE for train\n",
            "0.09070538589795105\n",
            "#MAE for test\n",
            "0.0828429618852406\n"
          ],
          "name": "stdout"
        },
        {
          "output_type": "stream",
          "text": [
            "/usr/local/lib/python3.7/dist-packages/sklearn/svm/_base.py:947: ConvergenceWarning: Liblinear failed to converge, increase the number of iterations.\n",
            "  \"the number of iterations.\", ConvergenceWarning)\n"
          ],
          "name": "stderr"
        }
      ]
    },
    {
      "cell_type": "markdown",
      "metadata": {
        "id": "C69fQiuxH9t1"
      },
      "source": [
        "KNN\n"
      ]
    },
    {
      "cell_type": "code",
      "metadata": {
        "colab": {
          "base_uri": "https://localhost:8080/"
        },
        "id": "T4RyuUFy-JE6",
        "outputId": "696db1b9-0d77-4ad2-c9f7-aca59666629e"
      },
      "source": [
        "knn = KNeighborsRegressor()\n",
        "knn.fit(X_train_50, y_train)\n",
        "print('R-squared for train')\n",
        "print(knn.score(X_train_50, y_train))\n",
        "print('R-squared for test')\n",
        "print(knn.score(X_test_50, y_test))\n",
        "print('Mse for test')\n",
        "print(mean_squared_error(y_test, knn.predict(X_test_50)))\n",
        "print('Mse for train')\n",
        "print(mean_squared_error(y_train, knn.predict(X_train_50)))"
      ],
      "execution_count": 21,
      "outputs": [
        {
          "output_type": "stream",
          "text": [
            "R-squared for train\n",
            "0.8201416685708826\n",
            "R-squared for test\n",
            "0.75852304041694\n",
            "Mse for test\n",
            "0.03812585584215269\n",
            "Mse for train\n",
            "0.02848668040073413\n"
          ],
          "name": "stdout"
        }
      ]
    },
    {
      "cell_type": "code",
      "metadata": {
        "id": "r2WePROy_NVl"
      },
      "source": [
        "kf = KFold(n_splits=10)\n",
        "X_np= np.array(X)"
      ],
      "execution_count": 22,
      "outputs": []
    },
    {
      "cell_type": "code",
      "metadata": {
        "colab": {
          "base_uri": "https://localhost:8080/"
        },
        "id": "cb3J2NgT87hd",
        "outputId": "cb2ee1e5-126a-4c02-c323-c5460394e254"
      },
      "source": [
        "mean_scores = []\n",
        "for k in tqdm(range(1,51)):\n",
        "    \n",
        "    scores = []\n",
        "    for tr_idx, tst_idx in kf.split(X_np):\n",
        "        X_train_np = X_np[tr_idx]\n",
        "        y_train_np = y[tr_idx]\n",
        "        X_test_np = X_np[tst_idx]\n",
        "        y_test_np = y[tst_idx]\n",
        "\n",
        "        knn = KNeighborsRegressor(n_neighbors = k)\n",
        "        knn.fit(X_train_np, y_train_np)\n",
        "        scores.append(knn.score(X_test_np, y_test_np))\n",
        "    \n",
        "    mean_scores.append(np.mean(np.array(scores)))\n",
        "\n"
      ],
      "execution_count": 23,
      "outputs": [
        {
          "output_type": "stream",
          "text": [
            "100%|██████████| 50/50 [00:27<00:00,  1.81it/s]\n"
          ],
          "name": "stderr"
        }
      ]
    },
    {
      "cell_type": "code",
      "metadata": {
        "colab": {
          "base_uri": "https://localhost:8080/",
          "height": 282
        },
        "id": "WR9D-ps2_cwP",
        "outputId": "d3ccda74-48d6-41f0-dd52-e778848e95a1"
      },
      "source": [
        "plt.plot(range(1, len(mean_scores)+1), mean_scores)"
      ],
      "execution_count": 24,
      "outputs": [
        {
          "output_type": "execute_result",
          "data": {
            "text/plain": [
              "[<matplotlib.lines.Line2D at 0x7f0315721510>]"
            ]
          },
          "metadata": {
            "tags": []
          },
          "execution_count": 24
        },
        {
          "output_type": "display_data",
          "data": {
            "image/png": "[encoded data removed]",
            "text/plain": [
              "<Figure size 432x288 with 1 Axes>"
            ]
          },
          "metadata": {
            "tags": [],
            "needs_background": "light"
          }
        }
      ]
    },
    {
      "cell_type": "code",
      "metadata": {
        "colab": {
          "base_uri": "https://localhost:8080/"
        },
        "id": "TSg5kCrG_h97",
        "outputId": "b0e6cbe1-b661-4e4e-f2d4-ae57bfb82672"
      },
      "source": [
        "np.argmax(mean_scores)+1"
      ],
      "execution_count": 25,
      "outputs": [
        {
          "output_type": "execute_result",
          "data": {
            "text/plain": [
              "7"
            ]
          },
          "metadata": {
            "tags": []
          },
          "execution_count": 25
        }
      ]
    },
    {
      "cell_type": "code",
      "metadata": {
        "colab": {
          "base_uri": "https://localhost:8080/"
        },
        "id": "NIuAaMtayOns",
        "outputId": "ee7a90ff-85a9-4376-d8eb-0525a8bb8529"
      },
      "source": [
        "#best\n",
        "knn = KNeighborsRegressor(n_neighbors= 7)\n",
        "knn.fit(X_train_50, y_train)\n",
        "print('R-squared for train')\n",
        "r2_train_knn = knn.score(X_train_50, y_train)\n",
        "print(r2_train_knn)\n",
        "print('R-squared for test')\n",
        "r2_test_knn = knn.score(X_test_50, y_test)\n",
        "print(r2_test_knn)\n",
        "print('Mse for test')\n",
        "mse_test_knn = mean_squared_error(y_test, knn.predict(X_test_50))\n",
        "print(mse_test_knn)\n",
        "print('Mse for train')\n",
        "mse_train_knn = mean_squared_error(y_train, knn.predict(X_train_50))\n",
        "print(mse_train_knn)\n",
        "print('Mae for train')\n",
        "mae_train_knn = mean_absolute_error(y_train, knn.predict(X_train_50))\n",
        "print(mae_train_knn)\n",
        "print('Mae for test')\n",
        "mae_test_knn = mean_absolute_error(y_test, knn.predict(X_test_50))\n",
        "print(mae_test_knn)"
      ],
      "execution_count": 26,
      "outputs": [
        {
          "output_type": "stream",
          "text": [
            "R-squared for train\n",
            "0.7972913343414596\n",
            "R-squared for test\n",
            "0.7601465895543713\n",
            "Mse for test\n",
            "0.037869519997634694\n",
            "Mse for train\n",
            "0.03210580753858408\n",
            "Mae for train\n",
            "0.12618915039546388\n",
            "Mae for test\n",
            "0.13333643296205144\n"
          ],
          "name": "stdout"
        }
      ]
    },
    {
      "cell_type": "markdown",
      "metadata": {
        "id": "vMyTYXymIFzL"
      },
      "source": [
        "Decision Tree"
      ]
    },
    {
      "cell_type": "code",
      "metadata": {
        "id": "aKX_jFUAQGWm"
      },
      "source": [
        "param_tuning = {#\"splitter\":[\"best\",\"random\"],\n",
        "            \"max_depth\" : [None, 1,3,4,5,6,7],\n",
        "           \"min_samples_leaf\":[1,2,3,4,5],\n",
        "           \"min_weight_fraction_leaf\":[0.0,0.1,0.2,0.3,0.4,0.5],\n",
        "           \"max_features\":[\"auto\",\"log2\",\"sqrt\",None],\n",
        "           \"max_leaf_nodes\":[None,10,20,30,40,50]}\n",
        "\n",
        "dt = DecisionTreeRegressor(random_state = 4)\n",
        "\n",
        "gsearch = GridSearchCV(dt, param_grid=param_tuning, scoring='neg_mean_squared_error', cv=3, n_jobs =-1, verbose=3)\n",
        "\n",
        "#gsearch.fit(X_train_50, y_train)\n",
        "#gsearch.best_score_\n",
        "#gsearch.best_estimator_"
      ],
      "execution_count": 27,
      "outputs": []
    },
    {
      "cell_type": "code",
      "metadata": {
        "colab": {
          "base_uri": "https://localhost:8080/"
        },
        "id": "XfkkQRdC2XHH",
        "outputId": "a68f1492-efa2-440a-c7d4-5a9325847b96"
      },
      "source": [
        "#with all features\n",
        "ds = DecisionTreeRegressor(ccp_alpha=0.0, criterion='mse', max_depth=6,\n",
        "                      max_features='auto', max_leaf_nodes=30,\n",
        "                      min_impurity_decrease=0.0, min_impurity_split=None,\n",
        "                      min_samples_leaf=5, min_samples_split=2,\n",
        "                      min_weight_fraction_leaf=0.0, presort='deprecated',\n",
        "                      random_state=4, splitter='best')\n",
        "ds.fit(X_train, y_train)\n",
        "print('R-squared for train')\n",
        "print(ds.score(X_train, y_train))\n",
        "print('R-squared for test')\n",
        "print(ds.score(X_test, y_test))\n",
        "print('Mse for test')\n",
        "print(mean_squared_error(y_test, ds.predict(X_test)))\n",
        "print('Mse for train')\n",
        "print(mean_squared_error(y_train, ds.predict(X_train)))"
      ],
      "execution_count": 28,
      "outputs": [
        {
          "output_type": "stream",
          "text": [
            "R-squared for train\n",
            "0.8526078286218269\n",
            "R-squared for test\n",
            "0.7394413227711891\n",
            "Mse for test\n",
            "0.04113859385839525\n",
            "Mse for train\n",
            "0.023344560389602906\n"
          ],
          "name": "stdout"
        }
      ]
    },
    {
      "cell_type": "code",
      "metadata": {
        "colab": {
          "base_uri": "https://localhost:8080/"
        },
        "id": "9ZAmzqT1yOrC",
        "outputId": "8d5174e1-f933-44bc-8cab-951ba74d6661"
      },
      "source": [
        "#best\n",
        "#with 50 most correlated features\n",
        "dt = DecisionTreeRegressor(ccp_alpha=0.0, criterion='mse', max_depth=None,\n",
        "                      max_features='auto', max_leaf_nodes=50,\n",
        "                      min_impurity_decrease=0.0, min_impurity_split=None,\n",
        "                      min_samples_leaf=3, min_samples_split=2,\n",
        "                      min_weight_fraction_leaf=0.0, presort='deprecated',\n",
        "                      random_state=4, splitter='best')\n",
        "dt.fit(X_train_50, y_train)\n",
        "print('R-squared for train')\n",
        "r2_train_dt = dt.score(X_train_50, y_train)\n",
        "print(r2_train_dt)\n",
        "print('R-squared for test')\n",
        "r2_test_dt = dt.score(X_test_50, y_test)\n",
        "print(r2_test_dt)\n",
        "print('Mse for test')\n",
        "mse_test_dt = mean_squared_error(y_test, dt.predict(X_test_50))\n",
        "print(mse_test_dt)\n",
        "print('Mse for train')\n",
        "mse_train_dt = mean_squared_error(y_train, dt.predict(X_train_50))\n",
        "print(mse_train_dt)\n",
        "print('Mae for train')\n",
        "mae_train_dt = mean_absolute_error(y_train, dt.predict(X_train_50))\n",
        "print(mae_train_dt)\n",
        "print('Mae for test')\n",
        "mae_test_dt = mean_absolute_error(y_test, dt.predict(X_test_50))\n",
        "print(mae_test_dt)"
      ],
      "execution_count": 29,
      "outputs": [
        {
          "output_type": "stream",
          "text": [
            "R-squared for train\n",
            "0.8864855126917512\n",
            "R-squared for test\n",
            "0.7538770912218664\n",
            "Mse for test\n",
            "0.03885938665009055\n",
            "Mse for train\n",
            "0.017978877570526453\n",
            "Mae for train\n",
            "0.1026046667333371\n",
            "Mae for test\n",
            "0.14663214354768633\n"
          ],
          "name": "stdout"
        }
      ]
    },
    {
      "cell_type": "code",
      "metadata": {
        "colab": {
          "base_uri": "https://localhost:8080/"
        },
        "id": "7uoYakguZRoA",
        "outputId": "43d6c25b-6a51-437c-cd43-d8a7cafe28c3"
      },
      "source": [
        "#lasso\n",
        "#with features from lasso\n",
        "ds = DecisionTreeRegressor(ccp_alpha=0.0, criterion='mse', max_depth=None,\n",
        "                      max_features='auto', max_leaf_nodes=50,\n",
        "                      min_impurity_decrease=0.0, min_impurity_split=None,\n",
        "                      min_samples_leaf=3, min_samples_split=2,\n",
        "                      min_weight_fraction_leaf=0.0, presort='deprecated',\n",
        "                      random_state=4, splitter='best')\n",
        "ds.fit(X_train_lasso, y_train)\n",
        "print('R-squared for train')\n",
        "print(ds.score(X_train_lasso, y_train))\n",
        "print('R-squared for test')\n",
        "print(ds.score(X_test_lasso, y_test))\n",
        "print('Mse for test')\n",
        "print(mean_squared_error(y_test, ds.predict(X_test_lasso)))\n",
        "print('Mse for train')\n",
        "print(mean_squared_error(y_train, ds.predict(X_train_lasso)))"
      ],
      "execution_count": 30,
      "outputs": [
        {
          "output_type": "stream",
          "text": [
            "R-squared for train\n",
            "0.8972091026978173\n",
            "R-squared for test\n",
            "0.7387115091588397\n",
            "Mse for test\n",
            "0.041253821284747326\n",
            "Mse for train\n",
            "0.016280432584275143\n"
          ],
          "name": "stdout"
        }
      ]
    },
    {
      "cell_type": "markdown",
      "metadata": {
        "id": "hM5PK9HQIKYW"
      },
      "source": [
        "Random Forest"
      ]
    },
    {
      "cell_type": "code",
      "metadata": {
        "id": "23B-UeH9TxJo"
      },
      "source": [
        "param_tuning = {\n",
        " 'max_depth': [10, 20, 30, 40, 50, 60, 70, 80, 90, 100, None],\n",
        " 'max_features': ['auto', 'sqrt'],\n",
        " 'min_samples_leaf': [1, 2, 4],\n",
        " 'min_samples_split': [2, 5, 10],\n",
        " 'n_estimators': [10, 50, 100, 200, 400, 600, 800, 1000]}\n",
        "\n",
        "rf = RandomForestRegressor(random_state= 4)\n",
        "\n",
        "gsearch = GridSearchCV(rf, param_grid=param_tuning, scoring='neg_mean_squared_error', cv=3, n_jobs = -1, verbose=1)\n",
        "\n",
        "#gsearch.fit(X_train, y_train)\n",
        "#gsearch.best_score_\n",
        "#gsearch.best_estimator_"
      ],
      "execution_count": 31,
      "outputs": []
    },
    {
      "cell_type": "code",
      "metadata": {
        "colab": {
          "base_uri": "https://localhost:8080/"
        },
        "id": "Z8DbhuJFceDT",
        "outputId": "8fbce6dc-070d-49b5-c3c3-7c76e1981ff2"
      },
      "source": [
        "#best (not so different)\n",
        "#with all features, chosen parameters\n",
        "rf  = RandomForestRegressor(bootstrap=True, ccp_alpha=0.0, criterion='mse',\n",
        "                      max_depth=30, max_features='auto', max_leaf_nodes=None,\n",
        "                      max_samples=None, min_impurity_decrease=0.0,\n",
        "                      min_impurity_split=None, min_samples_leaf=1,\n",
        "                      min_samples_split=2, min_weight_fraction_leaf=0.0,\n",
        "                      n_estimators=800, n_jobs=None, oob_score=False,\n",
        "                      random_state=4, verbose=0, warm_start=False)\n",
        "rf.fit(X_train, y_train)\n",
        "print('R-squared for train')\n",
        "r2_train_rf = rf.score(X_train, y_train)\n",
        "print(r2_train_rf)\n",
        "print('R-squared for test')\n",
        "r2_test_rf = rf.score(X_test, y_test)\n",
        "print(r2_test_rf)\n",
        "print('Mse for test')\n",
        "mse_test_rf = mean_squared_error(y_test, rf.predict(X_test))\n",
        "print(mse_test_rf)\n",
        "print('Mse for train')\n",
        "mse_train_rf = mean_squared_error(y_train, rf.predict(X_train))\n",
        "print(mse_train_rf)\n",
        "print('Mae for train')\n",
        "mae_train_rf = mean_absolute_error(y_train, rf.predict(X_train))\n",
        "print(mae_train_rf)\n",
        "print('Mae for test')\n",
        "mae_test_rf = mean_absolute_error(y_test, rf.predict(X_test))\n",
        "print(mae_test_rf)"
      ],
      "execution_count": 32,
      "outputs": [
        {
          "output_type": "stream",
          "text": [
            "R-squared for train\n",
            "0.9811449772868712\n",
            "R-squared for test\n",
            "0.8925807832555003\n",
            "Mse for test\n",
            "0.016960001398680234\n",
            "Mse for train\n",
            "0.0029863337534028075\n",
            "Mae for train\n",
            "0.03686060018791969\n",
            "Mae for test\n",
            "0.08825304282415218\n"
          ],
          "name": "stdout"
        }
      ]
    },
    {
      "cell_type": "code",
      "metadata": {
        "id": "FtQnOM7VyO6t",
        "colab": {
          "base_uri": "https://localhost:8080/"
        },
        "outputId": "12557014-d318-42b6-8d84-fdf875fde16f"
      },
      "source": [
        "#with 50 most corr features, default parameters\n",
        "rf  = RandomForestRegressor()\n",
        "rf.fit(X_train_50, y_train)\n",
        "print('R-squared for train')\n",
        "print(rf.score(X_train_50, y_train))\n",
        "print('R-squared for test')\n",
        "print(rf.score(X_test_50, y_test))\n",
        "print('Mse for test')\n",
        "print(mean_squared_error(y_test, rf.predict(X_test_50)))\n",
        "print('Mse for train')\n",
        "print(mean_squared_error(y_train, rf.predict(X_train_50)))"
      ],
      "execution_count": 33,
      "outputs": [
        {
          "output_type": "stream",
          "text": [
            "R-squared for train\n",
            "0.9784463235062847\n",
            "R-squared for test\n",
            "0.8723877796002225\n",
            "Mse for test\n",
            "0.02014819603103964\n",
            "Mse for train\n",
            "0.003413757310315421\n"
          ],
          "name": "stdout"
        }
      ]
    },
    {
      "cell_type": "code",
      "metadata": {
        "colab": {
          "base_uri": "https://localhost:8080/"
        },
        "id": "974mkDSOcPqq",
        "outputId": "d265ff9a-8c23-421b-e749-bd87f3dc4a26"
      },
      "source": [
        "#with all features, default parameters\n",
        "rf  = RandomForestRegressor()\n",
        "rf.fit(X_train, y_train)\n",
        "print('R-squared for train')\n",
        "print(rf.score(X_train, y_train))\n",
        "print('R-squared for test')\n",
        "print(rf.score(X_test, y_test))\n",
        "print('Mse for test')\n",
        "print(mean_squared_error(y_test, rf.predict(X_test)))\n",
        "print('Mse for train')\n",
        "print(mean_squared_error(y_train, rf.predict(X_train)))"
      ],
      "execution_count": 34,
      "outputs": [
        {
          "output_type": "stream",
          "text": [
            "R-squared for train\n",
            "0.9801293126666764\n",
            "R-squared for test\n",
            "0.8918390144946939\n",
            "Mse for test\n",
            "0.017077116376819537\n",
            "Mse for train\n",
            "0.003147198769773932\n"
          ],
          "name": "stdout"
        }
      ]
    },
    {
      "cell_type": "markdown",
      "metadata": {
        "id": "Hj9JzfwqP3eL"
      },
      "source": [
        "XGBoost"
      ]
    },
    {
      "cell_type": "code",
      "metadata": {
        "id": "9K5y0eDWyP7_"
      },
      "source": [
        "param_tuning = {\n",
        "        'learning_rate': [0.01, 0.1],\n",
        "        'max_depth': [3, 5, 7, 10],\n",
        "        'min_child_weight': [1, 3, 5],\n",
        "        'subsample': [0.5, 0.7],\n",
        "        'colsample_bytree': [0.5, 0.7],\n",
        "        'n_estimators' : [100, 200, 500],\n",
        "        'objective': ['reg:squarederror']\n",
        "    }\n",
        "\n",
        "xgb_model = XGBRegressor()\n",
        "\n",
        "gsearch = GridSearchCV(estimator = xgb_model,\n",
        "                      param_grid = param_tuning,                        \n",
        "                      #scoring = 'neg_mean_absolute_error', #MAE\n",
        "                      scoring = 'neg_mean_squared_error',  #MSE\n",
        "                      cv = 5,\n",
        "                      n_jobs = -1,\n",
        "                      verbose = 1)\n",
        "\n",
        "#gsearch.fit(X_train,y_train)  #runs \n",
        "#gsearch.best_params_\n",
        "#gsearch.best_estimator_\n"
      ],
      "execution_count": 35,
      "outputs": []
    },
    {
      "cell_type": "code",
      "metadata": {
        "colab": {
          "base_uri": "https://localhost:8080/"
        },
        "id": "B0oFh10VOOmP",
        "outputId": "2492cef6-0942-4250-c895-c665cb040ea4"
      },
      "source": [
        "#with 50 most corr features\n",
        "xg = XGBRegressor(base_score=0.5, booster='gbtree', colsample_bylevel=1,\n",
        "             colsample_bynode=1, colsample_bytree=0.7, gamma=0,\n",
        "             importance_type='gain', learning_rate=0.1, max_delta_step=0,\n",
        "             max_depth=3, min_child_weight=1, missing=None, n_estimators=500,\n",
        "             n_jobs=1, nthread=None, objective='reg:squarederror',\n",
        "             random_state=0, reg_alpha=0, reg_lambda=1, scale_pos_weight=1,\n",
        "             seed=None, silent=None, subsample=0.5, verbosity=1)\n",
        "xg.fit(X_train_50, y_train)\n",
        "print('R-squared for train')\n",
        "print(xg.score(X_train_50, y_train))\n",
        "print('R-squared for test')\n",
        "print(xg.score(X_test_50, y_test))\n",
        "print('Mse for test')\n",
        "print(mean_squared_error(y_test, xg.predict(X_test_50)))\n",
        "print('Mse for train')\n",
        "print(mean_squared_error(y_train, xg.predict(X_train_50)))"
      ],
      "execution_count": 36,
      "outputs": [
        {
          "output_type": "stream",
          "text": [
            "R-squared for train\n",
            "0.9848228054940954\n",
            "R-squared for test\n",
            "0.8850594634665118\n",
            "Mse for test\n",
            "0.018147513261148725\n",
            "Mse for train\n",
            "0.0024038246426180726\n"
          ],
          "name": "stdout"
        }
      ]
    },
    {
      "cell_type": "code",
      "metadata": {
        "colab": {
          "base_uri": "https://localhost:8080/"
        },
        "id": "pKBIBCB6ORwP",
        "outputId": "fc93a7c9-9891-4402-b256-5f9f78f3362e"
      },
      "source": [
        "#best\n",
        "#with all features\n",
        "xg = XGBRegressor(base_score=0.5, booster='gbtree', colsample_bylevel=1,\n",
        "             colsample_bynode=1, colsample_bytree=0.7, gamma=0,\n",
        "             importance_type='gain', learning_rate=0.1, max_delta_step=0,\n",
        "             max_depth=3, min_child_weight=1, missing=None, n_estimators=500,\n",
        "             n_jobs=1, nthread=None, objective='reg:squarederror',\n",
        "             random_state=0, reg_alpha=0, reg_lambda=1, scale_pos_weight=1,\n",
        "             seed=None, silent=None, subsample=0.5, verbosity=1)\n",
        "xg.fit(X_train, y_train)\n",
        "y_pred_xg = xg.predict(X_test)\n",
        "print('R-squared for train')\n",
        "r2_train_xg = xg.score(X_train, y_train)\n",
        "print(r2_train_xg)\n",
        "print('R-squared for test')\n",
        "r2_test_xg = xg.score(X_test, y_test)\n",
        "print(r2_test_xg)\n",
        "print('Mse for test')\n",
        "mse_test_xg = mean_squared_error(y_test, xg.predict(X_test))\n",
        "print(mse_test_xg)\n",
        "print('Mse for train')\n",
        "mse_train_xg = mean_squared_error(y_train, xg.predict(X_train))\n",
        "print(mse_train_xg)\n",
        "print('Mae for train')\n",
        "mae_train_xg = mean_absolute_error(y_train, xg.predict(X_train))\n",
        "print(mae_train_xg)\n",
        "print('Mae for test')\n",
        "mae_test_xg = mean_absolute_error(y_test, xg.predict(X_test))\n",
        "print(mae_test_xg)"
      ],
      "execution_count": 37,
      "outputs": [
        {
          "output_type": "stream",
          "text": [
            "R-squared for train\n",
            "0.9914544455091051\n",
            "R-squared for test\n",
            "0.9178128220246966\n",
            "Mse for test\n",
            "0.012976213154953018\n",
            "Mse for train\n",
            "0.0013534790281601048\n",
            "Mae for train\n",
            "0.02877310344487455\n",
            "Mae for test\n",
            "0.08156759372053907\n"
          ],
          "name": "stdout"
        }
      ]
    },
    {
      "cell_type": "markdown",
      "metadata": {
        "id": "9BhauoPke_tQ"
      },
      "source": [
        "Comparison"
      ]
    },
    {
      "cell_type": "code",
      "metadata": {
        "id": "hPohYBwbv1rd",
        "colab": {
          "base_uri": "https://localhost:8080/",
          "height": 314
        },
        "outputId": "1a1324b9-e25a-4505-c2ca-1a8bd454c21e"
      },
      "source": [
        "table= pd.DataFrame(columns=[\"Method\",\"R2 Train\",\"MSE Train\",\"MAE Train\",\"R2 Test\",\"MSE Test\",\"MAE Test\"])\n",
        "table = table.append({\"Method\": \"Linear Regression\",\n",
        "                      \"R2 Train\": r2_train_lr,\n",
        "                      \"MSE Train\": mse_train_lr,\n",
        "                      \"MAE Train\": mae_train_lr,\n",
        "                      \"R2 Test\": r2_test_lr,\n",
        "                      \"MSE Test\": mse_test_lr,\n",
        "                      \"MAE Test\": mae_test_lr,},ignore_index = True)\n",
        "table = table.append({\"Method\": \"SVR\",\n",
        "                      \"R2 Train\": r2_train_svr,\n",
        "                      \"MSE Train\": mse_train_svr,\n",
        "                      \"MAE Train\": mae_train_svr,\n",
        "                      \"R2 Test\": r2_test_svr,\n",
        "                      \"MSE Test\": mse_test_svr,\n",
        "                      \"MAE Test\": mae_test_svr,},ignore_index = True)\n",
        "table = table.append({\"Method\": \"Linear SVR\",\n",
        "                      \"R2 Train\": r2_train_lsvr,\n",
        "                      \"MSE Train\": mse_train_lsvr,\n",
        "                      \"MAE Train\": mae_train_lsvr,\n",
        "                      \"R2 Test\": r2_test_lsvr,\n",
        "                      \"MSE Test\": mse_test_lsvr,\n",
        "                      \"MAE Test\": mae_test_lsvr,},ignore_index = True)\n",
        "table = table.append({\"Method\": \"KNN Regression\",\n",
        "                      \"R2 Train\": r2_train_knn,\n",
        "                      \"MSE Train\": mse_train_knn,\n",
        "                      \"MAE Train\": mae_train_knn,\n",
        "                      \"R2 Test\": r2_test_knn,\n",
        "                      \"MSE Test\": mse_test_knn,\n",
        "                      \"MAE Test\": mae_test_knn,},ignore_index = True)\n",
        "table = table.append({\"Method\": \"Decision Tree Regression\",\n",
        "                      \"R2 Train\": r2_train_dt,\n",
        "                      \"MSE Train\": mse_train_dt,\n",
        "                      \"MAE Train\": mae_train_dt,\n",
        "                      \"R2 Test\": r2_test_dt,\n",
        "                      \"MSE Test\": mse_test_dt,\n",
        "                      \"MAE Test\": mae_test_dt,},ignore_index = True)\n",
        "table = table.append({\"Method\": \"Random Forest Regression\",\n",
        "                      \"R2 Train\": r2_train_rf,\n",
        "                      \"MSE Train\": mse_train_rf,\n",
        "                      \"MAE Train\": mae_train_rf,\n",
        "                      \"R2 Test\": r2_test_rf,\n",
        "                      \"MSE Test\": mse_test_rf,\n",
        "                      \"MAE Test\": mae_test_rf,},ignore_index = True)\n",
        "table = table.append({\"Method\": \"Ridge Regression\",\n",
        "                      \"R2 Train\": r2_train_ridge,\n",
        "                      \"MSE Train\": mse_train_ridge,\n",
        "                      \"MAE Train\": mae_train_ridge,\n",
        "                      \"R2 Test\": r2_test_ridge,\n",
        "                      \"MSE Test\": mse_test_ridge,\n",
        "                      \"MAE Test\": mae_test_ridge,},ignore_index = True)\n",
        "table = table.append({\"Method\": \"Lasso Regression\",\n",
        "                      \"R2 Train\": r2_train_lasso,\n",
        "                      \"MSE Train\": mse_train_lasso,\n",
        "                      \"MAE Train\": mae_train_lasso,\n",
        "                      \"R2 Test\": r2_test_lasso,\n",
        "                      \"MSE Test\": mse_test_lasso,\n",
        "                      \"MAE Test\": mae_test_lasso,},ignore_index = True)\n",
        "table = table.append({\"Method\": \"Extreme Gradient Boosting\",\n",
        "                      \"R2 Train\": r2_train_xg,\n",
        "                      \"MSE Train\": mse_train_xg,\n",
        "                      \"MAE Train\": mae_train_xg,\n",
        "                      \"R2 Test\": r2_test_xg,\n",
        "                      \"MSE Test\": mse_test_xg,\n",
        "                      \"MAE Test\": mae_test_xg,},ignore_index = True)\n",
        "table.sort_values(\"R2 Test\", ascending = False)"
      ],
      "execution_count": 38,
      "outputs": [
        {
          "output_type": "execute_result",
          "data": {
            "text/html": [
              "<div>\n",
              "<style scoped>\n",
              "    .dataframe tbody tr th:only-of-type {\n",
              "        vertical-align: middle;\n",
              "    }\n",
              "\n",
              "    .dataframe tbody tr th {\n",
              "        vertical-align: top;\n",
              "    }\n",
              "\n",
              "    .dataframe thead th {\n",
              "        text-align: right;\n",
              "    }\n",
              "</style>\n",
              "<table border=\"1\" class=\"dataframe\">\n",
              "  <thead>\n",
              "    <tr style=\"text-align: right;\">\n",
              "      <th></th>\n",
              "      <th>Method</th>\n",
              "      <th>R2 Train</th>\n",
              "      <th>MSE Train</th>\n",
              "      <th>MAE Train</th>\n",
              "      <th>R2 Test</th>\n",
              "      <th>MSE Test</th>\n",
              "      <th>MAE Test</th>\n",
              "    </tr>\n",
              "  </thead>\n",
              "  <tbody>\n",
              "    <tr>\n",
              "      <th>1</th>\n",
              "      <td>SVR</td>\n",
              "      <td>0.913307</td>\n",
              "      <td>0.013731</td>\n",
              "      <td>0.080192</td>\n",
              "      <td>0.919179</td>\n",
              "      <td>0.012760</td>\n",
              "      <td>0.080077</td>\n",
              "    </tr>\n",
              "    <tr>\n",
              "      <th>8</th>\n",
              "      <td>Extreme Gradient Boosting</td>\n",
              "      <td>0.991454</td>\n",
              "      <td>0.001353</td>\n",
              "      <td>0.028773</td>\n",
              "      <td>0.917813</td>\n",
              "      <td>0.012976</td>\n",
              "      <td>0.081568</td>\n",
              "    </tr>\n",
              "    <tr>\n",
              "      <th>2</th>\n",
              "      <td>Linear SVR</td>\n",
              "      <td>0.822248</td>\n",
              "      <td>0.028153</td>\n",
              "      <td>0.090705</td>\n",
              "      <td>0.910835</td>\n",
              "      <td>0.014078</td>\n",
              "      <td>0.082843</td>\n",
              "    </tr>\n",
              "    <tr>\n",
              "      <th>0</th>\n",
              "      <td>Linear Regression</td>\n",
              "      <td>0.868954</td>\n",
              "      <td>0.020756</td>\n",
              "      <td>0.097827</td>\n",
              "      <td>0.908979</td>\n",
              "      <td>0.014371</td>\n",
              "      <td>0.090352</td>\n",
              "    </tr>\n",
              "    <tr>\n",
              "      <th>7</th>\n",
              "      <td>Lasso Regression</td>\n",
              "      <td>0.858160</td>\n",
              "      <td>0.022465</td>\n",
              "      <td>0.098730</td>\n",
              "      <td>0.907491</td>\n",
              "      <td>0.014606</td>\n",
              "      <td>0.088067</td>\n",
              "    </tr>\n",
              "    <tr>\n",
              "      <th>6</th>\n",
              "      <td>Ridge Regression</td>\n",
              "      <td>0.929706</td>\n",
              "      <td>0.011134</td>\n",
              "      <td>0.074759</td>\n",
              "      <td>0.906537</td>\n",
              "      <td>0.014757</td>\n",
              "      <td>0.081822</td>\n",
              "    </tr>\n",
              "    <tr>\n",
              "      <th>5</th>\n",
              "      <td>Random Forest Regression</td>\n",
              "      <td>0.981145</td>\n",
              "      <td>0.002986</td>\n",
              "      <td>0.036861</td>\n",
              "      <td>0.892581</td>\n",
              "      <td>0.016960</td>\n",
              "      <td>0.088253</td>\n",
              "    </tr>\n",
              "    <tr>\n",
              "      <th>3</th>\n",
              "      <td>KNN Regression</td>\n",
              "      <td>0.797291</td>\n",
              "      <td>0.032106</td>\n",
              "      <td>0.126189</td>\n",
              "      <td>0.760147</td>\n",
              "      <td>0.037870</td>\n",
              "      <td>0.133336</td>\n",
              "    </tr>\n",
              "    <tr>\n",
              "      <th>4</th>\n",
              "      <td>Decision Tree Regression</td>\n",
              "      <td>0.886486</td>\n",
              "      <td>0.017979</td>\n",
              "      <td>0.102605</td>\n",
              "      <td>0.753877</td>\n",
              "      <td>0.038859</td>\n",
              "      <td>0.146632</td>\n",
              "    </tr>\n",
              "  </tbody>\n",
              "</table>\n",
              "</div>"
            ],
            "text/plain": [
              "                      Method  R2 Train  MSE Train  ...   R2 Test  MSE Test  MAE Test\n",
              "1                        SVR  0.913307   0.013731  ...  0.919179  0.012760  0.080077\n",
              "8  Extreme Gradient Boosting  0.991454   0.001353  ...  0.917813  0.012976  0.081568\n",
              "2                 Linear SVR  0.822248   0.028153  ...  0.910835  0.014078  0.082843\n",
              "0          Linear Regression  0.868954   0.020756  ...  0.908979  0.014371  0.090352\n",
              "7           Lasso Regression  0.858160   0.022465  ...  0.907491  0.014606  0.088067\n",
              "6           Ridge Regression  0.929706   0.011134  ...  0.906537  0.014757  0.081822\n",
              "5   Random Forest Regression  0.981145   0.002986  ...  0.892581  0.016960  0.088253\n",
              "3             KNN Regression  0.797291   0.032106  ...  0.760147  0.037870  0.133336\n",
              "4   Decision Tree Regression  0.886486   0.017979  ...  0.753877  0.038859  0.146632\n",
              "\n",
              "[9 rows x 7 columns]"
            ]
          },
          "metadata": {
            "tags": []
          },
          "execution_count": 38
        }
      ]
    },
    {
      "cell_type": "code",
      "metadata": {
        "colab": {
          "base_uri": "https://localhost:8080/",
          "height": 513
        },
        "id": "95yhIg23gcm6",
        "outputId": "cedf10d3-ef60-42e8-fa57-b346e9fbe131"
      },
      "source": [
        "#Comparative histograms of log transformations of predicted and actual prices for the top 4 models: SVR, XGBoost, and LinearSVR, Linear Reg.\n",
        "fig, ((ax0, ax1), (ax2, ax3)) = plt.subplots(nrows=2, ncols=2, figsize=(7, 7))\n",
        "\n",
        "ax0.hist(y_test, alpha=0.5, label='y_test')\n",
        "ax0.hist(y_pred_svr, alpha=0.5, label='y_pred')\n",
        "ax0.legend(loc='upper right', prop={'size': 7})\n",
        "ax0.set_title('SVR')\n",
        "\n",
        "ax1.hist(y_test, alpha=0.5, label='y_test')\n",
        "ax1.hist(y_pred_xg, alpha=0.5, label='y_pred')\n",
        "ax1.legend(loc='upper right', prop={'size': 7})\n",
        "ax1.set_title('XGBoost')\n",
        "\n",
        "ax2.hist(y_test, alpha=0.5, label='y_test')\n",
        "ax2.hist(y_pred_lsvr, alpha=0.5, label='y_pred')\n",
        "ax2.legend(loc='upper right', prop={'size': 7})\n",
        "ax2.set_title('LinearSVR')\n",
        "\n",
        "ax3.hist(y_test, alpha=0.5, label='y_test')\n",
        "ax3.hist(y_pred_lr, alpha=0.5, label='y_pred')\n",
        "ax3.legend(loc='upper right', prop={'size': 7})\n",
        "ax3.set_title('Linear Reg.')\n",
        "\n",
        "fig.tight_layout()\n",
        "plt.show()"
      ],
      "execution_count": 39,
      "outputs": [
        {
          "output_type": "display_data",
          "data": {
            "image/png": "[encoded data removed]",
            "text/plain": [
              "<Figure size 504x504 with 4 Axes>"
            ]
          },
          "metadata": {
            "tags": [],
            "needs_background": "light"
          }
        }
      ]
    },
    {
      "cell_type": "code",
      "metadata": {
        "colab": {
          "base_uri": "https://localhost:8080/",
          "height": 513
        },
        "id": "IOtuAlsxG58P",
        "outputId": "2502a27c-517e-4aa7-fe27-e7896bfce3aa"
      },
      "source": [
        "#Comparative histograms of predicted and actual prices for the top 4 models: SVR, XGBoost, and LinearSVR, Linear Reg.\n",
        "fig, ((ax0, ax1), (ax2, ax3)) = plt.subplots(nrows=2, ncols=2, figsize=(7, 7))\n",
        "\n",
        "ax0.hist(np.exp(y_test), alpha=0.5, label='y_test')\n",
        "ax0.hist(np.exp(y_pred_svr), alpha=0.5, label='y_pred')\n",
        "ax0.legend(loc='upper right', prop={'size': 7})\n",
        "ax0.set_title('SVR')\n",
        "\n",
        "ax1.hist(np.exp(y_test), alpha=0.5, label='y_test')\n",
        "ax1.hist(np.exp(y_pred_xg), alpha=0.5, label='y_pred')\n",
        "ax1.legend(loc='upper right', prop={'size': 7})\n",
        "ax1.set_title('XGBoost')\n",
        "\n",
        "ax2.hist(np.exp(y_test), alpha=0.5, label='y_test')\n",
        "ax2.hist(np.exp(y_pred_lsvr), alpha=0.5, label='y_pred')\n",
        "ax2.legend(loc='upper right', prop={'size': 7})\n",
        "ax2.set_title('LinearSVR')\n",
        "\n",
        "ax3.hist(np.exp(y_test), alpha=0.5, label='y_test')\n",
        "ax3.hist(np.exp(y_pred_lr), alpha=0.5, label='y_pred')\n",
        "ax3.legend(loc='upper right', prop={'size': 7})\n",
        "ax3.set_title('Linear Reg.')\n",
        "\n",
        "fig.tight_layout()\n",
        "plt.show()"
      ],
      "execution_count": 40,
      "outputs": [
        {
          "output_type": "display_data",
          "data": {
            "image/png": "[encoded data removed]",
            "text/plain": [
              "<Figure size 504x504 with 4 Axes>"
            ]
          },
          "metadata": {
            "tags": [],
            "needs_background": "light"
          }
        }
      ]
    }
  ]
}